{
 "cells": [
  {
   "cell_type": "code",
   "execution_count": null,
   "id": "b2caa9be-3291-42dd-bc30-56b35d5f5d54",
   "metadata": {},
   "outputs": [],
   "source": []
  },
  {
   "cell_type": "code",
   "execution_count": null,
   "id": "b1bf1223-b986-4d70-8451-a6324d1b388d",
   "metadata": {},
   "outputs": [],
   "source": []
  },
  {
   "cell_type": "markdown",
   "id": "a859b3c4-1763-4d0b-906e-693a26ea464c",
   "metadata": {},
   "source": [
    "## assignment 1"
   ]
  },
  {
   "cell_type": "markdown",
   "id": "b5df1df4-ae4a-4e6f-b8cf-dc4d9adda938",
   "metadata": {},
   "source": [
    "\n",
    "1. The prices of five bikes in a shop are:\n",
    "₹12,000, ₹15,000, ₹18,000, ₹20,000, ₹50,000\n",
    "(a) What is the mean price of a bike? (2 Marks)\n",
    "(b) What is the median price of a bike? (2 Marks)\n",
    "(c) If the shop owner wants to make the bikes seem affordable, which \"average\" (mean or median) should they advertise?Why?\n"
   ]
  },
  {
   "cell_type": "code",
   "execution_count": 1,
   "id": "e3427bc6-40b1-4eef-92eb-2e0ba4835d86",
   "metadata": {},
   "outputs": [
    {
     "name": "stdout",
     "output_type": "stream",
     "text": [
      "Mean price: 23000\n"
     ]
    }
   ],
   "source": [
    "## 1 a) mean price \n",
    "import statistics\n",
    "\n",
    "prices = [12000, 15000, 18000, 20000, 50000]\n",
    "\n",
    "mean_price = statistics.mean(prices)\n",
    "print(\"Mean price:\", mean_price)\n",
    "\n"
   ]
  },
  {
   "cell_type": "code",
   "execution_count": 2,
   "id": "d3375ccd-12dd-42fa-9ef6-9f7a382f67d0",
   "metadata": {},
   "outputs": [
    {
     "name": "stdout",
     "output_type": "stream",
     "text": [
      "Median price: 18000\n"
     ]
    }
   ],
   "source": [
    "## 2) b) median price\n",
    "median_price = statistics.median(prices)\n",
    "print(\"Median price:\", median_price)\n"
   ]
  },
  {
   "cell_type": "markdown",
   "id": "812b1f31-76cc-47e4-96cc-fddc6a86bff2",
   "metadata": {},
   "source": [
    "(c) Which \"average\" should be advertised?\n",
    "## 1 C)\n",
    "Mean = ₹23,000 (pulled up by the ₹50,000 bike).\n",
    "\n",
    "Median = ₹18,000 (better represents the typical bike price).\n",
    "\n",
    "To make bikes seem affordable, the shop owner should advertise the median (₹18,000)."
   ]
  },
  {
   "cell_type": "code",
   "execution_count": null,
   "id": "783a75ab-cfa1-48b8-8ada-fa1c264c26ba",
   "metadata": {},
   "outputs": [],
   "source": []
  },
  {
   "cell_type": "code",
   "execution_count": null,
   "id": "e4fbbd56-6a46-45b2-a94b-802de869e4c8",
   "metadata": {},
   "outputs": [],
   "source": []
  },
  {
   "cell_type": "markdown",
   "id": "c2ee2b43-588f-406b-a2e8-30fda85b8d5c",
   "metadata": {},
   "source": [
    "Q2.Describe the relationship between a histogram's shape and the values of its mean, median, and mode in a left-skewed distribution."
   ]
  },
  {
   "cell_type": "markdown",
   "id": "a71dc423-8892-463b-b644-49e77376ad29",
   "metadata": {},
   "source": [
    "# answer\n",
    "In a left-skewed distribution (also called negatively skewed), the tail of the histogram stretches to the left (towards smaller values).\n",
    "\n",
    "Here’s the relationship between mean, median, and mode:\n",
    "\n",
    "Mode → The highest point (peak) of the distribution, located toward the right (since most data are larger values).\n",
    "\n",
    "Median → Lies to the left of the mode but still closer to the center of the data.\n",
    "\n",
    "Mean → Pulled further left by the long tail of small values, so it is the smallest of the three.\n",
    "\n",
    "->  Order in a left-skewed distribution:\n",
    "\n",
    "Mean < Median < Mode\n",
    "\n",
    "Summary:\n",
    "In a left-skewed histogram, the mean is less than the median, which is less than the mode because the long left tail drags the mean downward.\n",
    "\n",
    "Would you like me to also make a small diagram (using code to plot a left-skewed distribution) to visualize this relationship?"
   ]
  },
  {
   "cell_type": "code",
   "execution_count": null,
   "id": "370490d0-3287-4093-8301-782f89f068ce",
   "metadata": {},
   "outputs": [],
   "source": []
  },
  {
   "cell_type": "code",
   "execution_count": null,
   "id": "866b35b5-e1cc-404d-a942-e9c9ebd5156f",
   "metadata": {},
   "outputs": [],
   "source": []
  },
  {
   "cell_type": "code",
   "execution_count": null,
   "id": "7ae623ef-e630-4b2b-ab24-3e4f8be75695",
   "metadata": {},
   "outputs": [],
   "source": [
    "Q3. The following data represents the exam scores (out of 100) for 10 students:\n",
    "85, 92, 78, 90, 85, 67, 88, 95, 85, 72\n",
    "(a) Calculate the mean, median, and mode for this data.\n",
    "(b) Based on your values from part (a), describe the shape of the distribution\n",
    "(symmetrical, skewed left, or skewed right). Justify your answer. \n",
    "(c) Find the Five-Number Summary for this data.\n"
   ]
  },
  {
   "cell_type": "code",
   "execution_count": 3,
   "id": "737af4b9-3b61-4041-932c-02d456a3258d",
   "metadata": {},
   "outputs": [
    {
     "name": "stdout",
     "output_type": "stream",
     "text": [
      "Mean: 83.7\n",
      "Median: 85.0\n",
      "Mode: 85\n"
     ]
    }
   ],
   "source": [
    "import statistics\n",
    "\n",
    "scores = [85, 92, 78, 90, 85, 67, 88, 95, 85, 72]\n",
    "\n",
    "# Mean\n",
    "mean_score = statistics.mean(scores)\n",
    "\n",
    "# Median\n",
    "median_score = statistics.median(scores)\n",
    "\n",
    "# Mode\n",
    "mode_score = statistics.mode(scores)\n",
    "\n",
    "print(\"Mean:\", mean_score)\n",
    "print(\"Median:\", median_score)\n",
    "print(\"Mode:\", mode_score)\n"
   ]
  },
  {
   "cell_type": "markdown",
   "id": "07a1539b-f1a5-4266-888b-564b17863448",
   "metadata": {},
   "source": [
    " # (b) Shape of the distribution\n",
    "\n",
    "Mean (83.7) < Median (85) ≈ Mode (85)\n",
    "\n",
    "Since the mean is slightly less than the median/mode, there is a slight left skew, but because the difference is very small, the distribution is almost symmetrical.\n",
    "\n",
    "Answer: The distribution is approximately symmetrical, because mean, median, and mode are very close."
   ]
  },
  {
   "cell_type": "code",
   "execution_count": 4,
   "id": "327e3380-d7ac-4d96-8cb5-37f44023f279",
   "metadata": {},
   "outputs": [
    {
     "name": "stdout",
     "output_type": "stream",
     "text": [
      "Five-Number Summary:\n",
      "Minimum: 67\n",
      "Q1: 79.75\n",
      "Median: 85.0\n",
      "Q3: 89.5\n",
      "Maximum: 95\n"
     ]
    }
   ],
   "source": [
    "# 3 (c) Find the Five-Number Summary for this data.\n",
    "import numpy as np\n",
    "\n",
    "scores = [85, 92, 78, 90, 85, 67, 88, 95, 85, 72]\n",
    "\n",
    "minimum = np.min(scores)\n",
    "maximum = np.max(scores)\n",
    "median = np.median(scores)\n",
    "Q1 = np.percentile(scores, 25)\n",
    "Q3 = np.percentile(scores, 75)\n",
    "\n",
    "print(\"Five-Number Summary:\")\n",
    "print(\"Minimum:\", minimum)\n",
    "print(\"Q1:\", Q1)\n",
    "print(\"Median:\", median)\n",
    "print(\"Q3:\", Q3)\n",
    "print(\"Maximum:\", maximum)\n",
    "\n"
   ]
  },
  {
   "cell_type": "code",
   "execution_count": null,
   "id": "0da733de-b9df-40f7-895d-18c4f07091d5",
   "metadata": {},
   "outputs": [],
   "source": []
  },
  {
   "cell_type": "code",
   "execution_count": null,
   "id": "f720da3e-371c-4f71-bb52-29e7100e1636",
   "metadata": {},
   "outputs": [],
   "source": [
    "\n",
    "Q4. Differentiate between a population parameter and a sample statistic with an example of each.\n"
   ]
  },
  {
   "cell_type": "markdown",
   "id": "e47e32bf-a8be-4fa5-8936-b80d815823fc",
   "metadata": {},
   "source": [
    "| **Aspect**         | **Population Parameter**                                                                                             | **Sample Statistic**                                                                                                    |\n",
    "|--------------------|------------------------------------------------------------------------------------------------------------------------|--------------------------------------------------------------------------------------------------------------------------|\n",
    "| **Definition**     | A numerical value that describes a **whole population**.                                                              | A numerical value calculated from a **sample** of the population.                                                       |\n",
    "| **Symbol Example** | Mean: μ, Standard Deviation: σ                                                                                        | Mean: \\( \\bar{x} \\), Standard Deviation: s                                                                              |\n",
    "| **Purpose**        | Describes true characteristic of the entire population.                                                               | Estimates the population parameter.                                                                                     |\n",
    "| **Example**        | Suppose a company has **all 1,000 employee salaries**: the **mean salary of $55,000** is a **population parameter**.  | If you randomly select **10 employees** and calculate their **mean salary of $53,000**, that is a **sample statistic**. |\n"
   ]
  },
  {
   "cell_type": "code",
   "execution_count": null,
   "id": "c55b4621-cb95-4261-8a1e-10f297afb38b",
   "metadata": {},
   "outputs": [],
   "source": []
  },
  {
   "cell_type": "code",
   "execution_count": null,
   "id": "731a8bb7-211c-491b-9256-18a074f65d7d",
   "metadata": {},
   "outputs": [],
   "source": [
    "Q5. A small company has 5 employees with the following annual salaries:\n",
    "$45,000, $50,000, $55,000, $60,000, $250,000\n",
    "(a) Calculate the mean and median salary.\n",
    "(b) The company wants to attract new hires by advertising the \"average\" salary. Which measure would they likely use? Which measure would a potential employee prefer to see? Explain the reason for the difference.\n"
   ]
  },
  {
   "cell_type": "code",
   "execution_count": null,
   "id": "3e74af73-a6b4-434d-b34d-aa06d26d786b",
   "metadata": {},
   "outputs": [],
   "source": []
  },
  {
   "cell_type": "code",
   "execution_count": 6,
   "id": "79c016fb-2b03-4762-82c6-8dacf10d94f7",
   "metadata": {},
   "outputs": [
    {
     "name": "stdout",
     "output_type": "stream",
     "text": [
      "Mean salary: 92000\n",
      "Median salary: 55000\n"
     ]
    }
   ],
   "source": [
    "## 5 a)\n",
    "\n",
    "import statistics\n",
    "\n",
    "salaries = [45000, 50000, 55000, 60000, 250000]\n",
    "\n",
    "mean_salary = statistics.mean(salaries)\n",
    "median_salary = statistics.median(salaries)\n",
    "\n",
    "print(\"Mean salary:\", mean_salary)\n",
    "print(\"Median salary:\", median_salary)\n"
   ]
  },
  {
   "cell_type": "markdown",
   "id": "9718114b-99e8-46da-8f3b-a80185b37eeb",
   "metadata": {},
   "source": [
    "## 5 b \n",
    "(b) Which \"average\" to advertise and why?\n",
    "# answer \n",
    "Company: Likely to advertise the mean = $92,000, because it looks higher due to the extremely high salary ($250,000) pulling the mean upward.\n",
    "\n",
    "Potential Employee: Would prefer to see the median = $55,000, because it represents the typical salary more accurately, ignoring the outlier.\n",
    "\n",
    "Reason for difference:\n",
    "\n",
    "Mean is sensitive to extreme values (outliers).\n",
    "\n",
    "Median is resistant to outliers and gives a better idea of what most employees earn."
   ]
  },
  {
   "cell_type": "code",
   "execution_count": null,
   "id": "e7dcbd49-2685-46bf-bdba-4e80bac7a542",
   "metadata": {},
   "outputs": [],
   "source": []
  },
  {
   "cell_type": "code",
   "execution_count": null,
   "id": "83d4c6fa-f517-44d2-8faf-2a4e26c2907d",
   "metadata": {},
   "outputs": [],
   "source": [
    "Q.6 The following data represents the exam scores (out of 100) for 10 students:\n",
    "85, 92, 78, 90, 85, 67, 88, 95, 85, 72\n",
    "(a) Calculate the mean, median, and mode for this data.\n",
    "(b) Based on your values from part (a), describe the shape of the distribution\n",
    "(symmetrical, skewed left, or skewed right). Justify your answer. \n",
    "(c) Find the Five-Number Summary for this data\n"
   ]
  },
  {
   "cell_type": "code",
   "execution_count": 8,
   "id": "1487036d-c246-4c97-a144-4aea38664dee",
   "metadata": {},
   "outputs": [
    {
     "name": "stdout",
     "output_type": "stream",
     "text": [
      "Mean: 83.7\n",
      "Median: 85.0\n",
      "Mode: 85\n"
     ]
    }
   ],
   "source": [
    "## 6 (a)\n",
    "\n",
    "import statistics\n",
    "\n",
    "scores = [85, 92, 78, 90, 85, 67, 88, 95, 85, 72]\n",
    "\n",
    "# Mean\n",
    "mean_score = statistics.mean(scores)\n",
    "\n",
    "# Median\n",
    "median_score = statistics.median(scores)\n",
    "\n",
    "# Mode\n",
    "mode_score = statistics.mode(scores)\n",
    "\n",
    "print(\"Mean:\", mean_score)\n",
    "print(\"Median:\", median_score)\n",
    "print(\"Mode:\", mode_score)\n",
    "\n"
   ]
  },
  {
   "cell_type": "code",
   "execution_count": null,
   "id": "70bc262a-2cff-4381-a506-979fcf7bd24a",
   "metadata": {},
   "outputs": [],
   "source": [
    "## 6(b)\n",
    "(b) Shape of the distribution\n",
    "\n",
    "Mean (83.7) < Median (85) ≈ Mode (85)\n",
    "\n",
    "Because the mean is slightly less than median/mode, the distribution is slightly left-skewed, but the difference is very small.\n",
    "\n",
    "Conclusion: The distribution is approximately symmetrical."
   ]
  },
  {
   "cell_type": "code",
   "execution_count": 10,
   "id": "d149c226-9114-4331-a504-70c26b136183",
   "metadata": {},
   "outputs": [
    {
     "name": "stdout",
     "output_type": "stream",
     "text": [
      "Five-Number Summary:\n",
      "Minimum: 67\n",
      "Q1: 79.75\n",
      "Median: 85.0\n",
      "Q3: 89.5\n",
      "Maximum: 95\n"
     ]
    }
   ],
   "source": [
    "## 6(c)  Five-Number Summary  Five-number summary = Minimum, Q1, Median, Q3, Maximum\n",
    "import numpy as np\n",
    "\n",
    "scores = [85, 92, 78, 90, 85, 67, 88, 95, 85, 72]\n",
    "\n",
    "minimum = np.min(scores)\n",
    "maximum = np.max(scores)\n",
    "median = np.median(scores)\n",
    "Q1 = np.percentile(scores, 25)\n",
    "Q3 = np.percentile(scores, 75)\n",
    "\n",
    "print(\"Five-Number Summary:\")\n",
    "print(\"Minimum:\", minimum)\n",
    "print(\"Q1:\", Q1)\n",
    "print(\"Median:\", median)\n",
    "print(\"Q3:\", Q3)\n",
    "print(\"Maximum:\", maximum)\n",
    "\n"
   ]
  },
  {
   "cell_type": "code",
   "execution_count": null,
   "id": "4a157168-edb4-41b5-9af2-f22330897e6a",
   "metadata": {},
   "outputs": [],
   "source": [
    "Q7. Graphical Representation \n",
    "A quick survey of 20 students about their preferred mode of learning yielded the following data:\n",
    "(H: Hybrid, O: Online, F: In-Person/Face-to-Face)\n",
    "Raw Data: F, H, O, F, F, O, H, F, O, F, H, F, F, F, O, H, O, F, H, F\n",
    "(a) Organize this raw categorical data into a Frequency Table.\n",
    "(b) Based on your table, create a Bar Chart to represent this data. Remember to label your axes and give the chart a title.\n",
    "(c) Based on the chart, what is the most popular learning mode? What percentage of students prefer it? \n",
    "(d) Why is a Histogram not a suitable graph for this type of data? \n",
    "\n"
   ]
  },
  {
   "cell_type": "code",
   "execution_count": 11,
   "id": "ee002522-727b-4cbd-b124-61cc28b98951",
   "metadata": {},
   "outputs": [
    {
     "name": "stdout",
     "output_type": "stream",
     "text": [
      "Frequency Table:\n",
      "F: 10\n",
      "H: 5\n",
      "O: 5\n"
     ]
    }
   ],
   "source": [
    "## (a) Frequency Table\n",
    "# Raw data\n",
    "data = ['F', 'H', 'O', 'F', 'F', 'O', 'H', 'F', 'O', 'F', 'H', 'F', 'F', 'F', 'O', 'H', 'O', 'F', 'H', 'F']\n",
    "\n",
    "# Create frequency table using a dictionary\n",
    "frequency_table = {}\n",
    "for mode in data:\n",
    "    if mode in frequency_table:\n",
    "        frequency_table[mode] += 1\n",
    "    else:\n",
    "        frequency_table[mode] = 1\n",
    "\n",
    "# Print the frequency table\n",
    "print(\"Frequency Table:\")\n",
    "for mode, freq in frequency_table.items():\n",
    "    print(f\"{mode}: {freq}\")\n"
   ]
  },
  {
   "cell_type": "code",
   "execution_count": 12,
   "id": "5fffa20f-c841-4386-8b27-302f52eaf60b",
   "metadata": {},
   "outputs": [
    {
     "data": {
      "image/png": "[encoded data removed]",
      "text/plain": [
       "<Figure size 640x480 with 1 Axes>"
      ]
     },
     "metadata": {},
     "output_type": "display_data"
    }
   ],
   "source": [
    "## 7 (b)\n",
    "import matplotlib.pyplot as plt\n",
    "\n",
    "modes = ['F', 'H', 'O']\n",
    "frequency = [10, 5, 5]\n",
    "\n",
    "plt.bar(modes, frequency, color=['skyblue', 'orange', 'green'])\n",
    "plt.title('Preferred Mode of Learning Among 20 Students')\n",
    "plt.xlabel('Mode of Learning')\n",
    "plt.ylabel('Number of Students')\n",
    "plt.show()\n",
    "\n"
   ]
  },
  {
   "cell_type": "code",
   "execution_count": 14,
   "id": "7c2077f1-c6f7-4cfb-95f1-9a8004d5b6db",
   "metadata": {},
   "outputs": [
    {
     "name": "stdout",
     "output_type": "stream",
     "text": [
      "Most Popular Learning Mode: F\n",
      "Number of Students: 10\n",
      "Percentage of Students: 50.0 %\n"
     ]
    }
   ],
   "source": [
    "## 7 (c)\n",
    "\n",
    "# Raw data\n",
    "data = ['F', 'H', 'O', 'F', 'F', 'O', 'H', 'F', 'O', 'F', \n",
    "        'H', 'F', 'F', 'F', 'O', 'H', 'O', 'F', 'H', 'F']\n",
    "\n",
    "# Count frequency of each mode\n",
    "frequency_table = {}\n",
    "for mode in data:\n",
    "    if mode in frequency_table:\n",
    "        frequency_table[mode] += 1\n",
    "    else:\n",
    "        frequency_table[mode] = 1\n",
    "\n",
    "# Find the most popular mode\n",
    "most_popular_mode = max(frequency_table, key=frequency_table.get)\n",
    "most_popular_count = frequency_table[most_popular_mode]\n",
    "\n",
    "# Calculate percentage\n",
    "total_students = len(data)\n",
    "percentage = (most_popular_count / total_students) * 100\n",
    "\n",
    "# Print results\n",
    "print(\"Most Popular Learning Mode:\", most_popular_mode)\n",
    "print(\"Number of Students:\", most_popular_count)\n",
    "print(\"Percentage of Students:\", percentage, \"%\")\n",
    "\n"
   ]
  },
  {
   "cell_type": "markdown",
   "id": "e8af6c9a-1f66-4a33-8327-64d092be6f2c",
   "metadata": {},
   "source": [
    "## 7(d)  \n",
    "A histogram is used to represent numerical/continuous data that is divided into intervals (called bins).\n",
    "\n",
    "Example: Exam scores, heights, weights.\n",
    "\n",
    "Our data is categorical (F, H, O), not numbers.\n",
    "\n",
    "Categories do not have a numeric order or range.\n",
    "\n",
    "Using a histogram for categorical data doesn’t make sense because histograms rely on continuous intervals.\n",
    "\n",
    "✅ Correct Graph for Categorical Data:\n",
    "\n",
    "Bar Chart → height of each bar shows the frequency of each category.\n",
    "\n",
    "Pie Chart → shows proportion of each category as part of a whole"
   ]
  },
  {
   "cell_type": "code",
   "execution_count": 16,
   "id": "e9d553b8-3dc2-4f2a-8812-2d2e64d4108c",
   "metadata": {},
   "outputs": [
    {
     "data": {
      "image/png": "[encoded data removed]",
      "text/plain": [
       "<Figure size 640x480 with 1 Axes>"
      ]
     },
     "metadata": {},
     "output_type": "display_data"
    }
   ],
   "source": [
    "## 7 d \n",
    "import matplotlib.pyplot as plt\n",
    "\n",
    "# Raw data\n",
    "data = ['F', 'H', 'O', 'F', 'F', 'O', 'H', 'F', 'O', 'F', \n",
    "        'H', 'F', 'F', 'F', 'O', 'H', 'O', 'F', 'H', 'F']\n",
    "\n",
    "# Count frequency of each category\n",
    "frequency_table = {}\n",
    "for mode in data:\n",
    "    if mode in frequency_table:\n",
    "        frequency_table[mode] += 1\n",
    "    else:\n",
    "        frequency_table[mode] = 1\n",
    "\n",
    "# Prepare data for bar chart\n",
    "modes = list(frequency_table.keys())\n",
    "frequencies = list(frequency_table.values())\n",
    "\n",
    "# Bar chart\n",
    "plt.bar(modes, frequencies, color=['skyblue', 'orange', 'green'])\n",
    "plt.title('Preferred Mode of Learning Among 20 Students')\n",
    "plt.xlabel('Mode of Learning')\n",
    "plt.ylabel('Number of Students')\n",
    "plt.show()\n"
   ]
  },
  {
   "cell_type": "markdown",
   "id": "b65e738a-b1da-411c-a31e-d62ee8e38179",
   "metadata": {},
   "source": [
    "# assignment 2 samatrix"
   ]
  },
  {
   "cell_type": "markdown",
   "id": "cc9b81f1-8b89-4500-b571-5f3b5f657589",
   "metadata": {},
   "source": [
    "ASSIGNMENT - 2\n",
    "Q.1 A jar contains 5 red and 7 blue marbles. Two marbles are drawn randomly one after the other without replacement. What is the probability that the second marble is red, given that the first one was blue?\n"
   ]
  },
  {
   "cell_type": "code",
   "execution_count": 18,
   "id": "a6234b1c-7ece-4ade-b6d1-71ba7b519faa",
   "metadata": {},
   "outputs": [
    {
     "name": "stdout",
     "output_type": "stream",
     "text": [
      "Probability that the second marble is red given first is blue: 5/11\n"
     ]
    }
   ],
   "source": [
    "from fractions import Fraction\n",
    "\n",
    "# Total marbles\n",
    "red = 5\n",
    "blue = 7\n",
    "total = red + blue\n",
    "\n",
    "\n",
    "remaining_red = red\n",
    "remaining_total = total - 1\n",
    "\n",
    "\n",
    "prob = Fraction(remaining_red, remaining_total)\n",
    "print(\"Probability that the second marble is red given first is blue:\", prob)\n",
    "\n"
   ]
  },
  {
   "cell_type": "code",
   "execution_count": null,
   "id": "3a2487a3-9c06-49ec-bf34-d0fe62cf29d1",
   "metadata": {},
   "outputs": [],
   "source": []
  },
  {
   "cell_type": "raw",
   "id": "724c5e85-1219-4fd8-9eea-fcbead48e47e",
   "metadata": {},
   "source": [
    "Q2. Suppose a laboratory test on a blood sample yields two possible results, positive or negative. According to the industry reports, the blood sample 95% of the people with a particular disease yield positive results. But 2% of the people without the disease also give positive results (false positive). 1% of the total population is infected by the disease. Determine the probability that a person chosen randomly from the population will have disease given that the blood sample of the person tests positive?"
   ]
  },
  {
   "cell_type": "code",
   "execution_count": 20,
   "id": "e64d2b98-b81e-4a1e-9456-2e7f341b4e25",
   "metadata": {},
   "outputs": [
    {
     "name": "stdout",
     "output_type": "stream",
     "text": [
      "Probability of having disease given positive test (as fraction): 95/293\n",
      "Probability as decimal: 0.3242320819112628\n"
     ]
    }
   ],
   "source": [
    "from fractions import Fraction\n",
    "\n",
    "\n",
    "P_disease = Fraction(1, 100)               \n",
    "P_no_disease = Fraction(99, 100)            \n",
    "P_pos_given_disease = Fraction(95, 100)     \n",
    "P_pos_given_no_disease = Fraction(2, 100)   \n",
    "\n",
    "P_positive = (P_pos_given_disease * P_disease) + (P_pos_given_no_disease * P_no_disease)\n",
    "\n",
    "# Probability of having disease given a positive test (Bayes' theorem)\n",
    "P_disease_given_positive = (P_pos_given_disease * P_disease) / P_positive\n",
    "\n",
    "# Print the result as a fraction\n",
    "print(\"Probability of having disease given positive test (as fraction):\", P_disease_given_positive)\n",
    "print(\"Probability as decimal:\", float(P_disease_given_positive))\n"
   ]
  },
  {
   "cell_type": "code",
   "execution_count": null,
   "id": "ba94173f-1eed-4c42-9ef8-830ac3a7d6bd",
   "metadata": {},
   "outputs": [],
   "source": []
  },
  {
   "cell_type": "raw",
   "id": "e1f19f57-a846-4fe8-a6b7-478a926f872f",
   "metadata": {},
   "source": [
    "Q3.  A patient from the population given above walks into the clinic of a doctor with some symptoms of the disease. After examining the patient and without checking the blood test report, the doctor gives his opinion that there are 30% chances that the patient is suffering from the disease. How should revise his opinion after checking the blood report "
   ]
  },
  {
   "cell_type": "code",
   "execution_count": 21,
   "id": "56e0bfda-5441-4791-b82c-19039a4f64a5",
   "metadata": {},
   "outputs": [
    {
     "name": "stdout",
     "output_type": "stream",
     "text": [
      "Updated probability after positive blood test: 0.9532\n"
     ]
    }
   ],
   "source": [
    "from decimal import Decimal\n",
    "\n",
    "# Prior probability from doctor's opinion\n",
    "P_disease = Decimal('0.30')\n",
    "P_no_disease = Decimal('0.70')\n",
    "\n",
    "# Blood test probabilities\n",
    "P_pos_given_disease = Decimal('0.95')\n",
    "P_pos_given_no_disease = Decimal('0.02')\n",
    "\n",
    "# Total probability of positive test\n",
    "P_positive = (P_pos_given_disease * P_disease) + (P_pos_given_no_disease * P_no_disease)\n",
    "\n",
    "# Posterior probability using Bayes' theorem\n",
    "P_disease_given_positive = (P_pos_given_disease * P_disease) / P_positive\n",
    "\n",
    "print(\"Updated probability after positive blood test:\", round(P_disease_given_positive, 4))\n"
   ]
  },
  {
   "cell_type": "code",
   "execution_count": null,
   "id": "cdbbc64f-42d6-4b94-b43a-2e6282ac9903",
   "metadata": {},
   "outputs": [],
   "source": []
  },
  {
   "cell_type": "raw",
   "id": "df8bdf4f-cebd-46df-bcd6-acfef1d06b47",
   "metadata": {},
   "source": [
    "Q4. In a group of 50 students, 30 study Physics, 25 study Chemistry, and 15 study both. Draw a Venn diagram to represent this and find the probability that a randomly selected student studies only Physics.\n"
   ]
  },
  {
   "cell_type": "code",
   "execution_count": 24,
   "id": "2cdd5df4-2859-4ad8-9f92-1bc02fcb29ab",
   "metadata": {},
   "outputs": [
    {
     "data": {
      "image/png": "[encoded data removed]",
      "text/plain": [
       "<Figure size 640x480 with 1 Axes>"
      ]
     },
     "metadata": {},
     "output_type": "display_data"
    }
   ],
   "source": [
    "from matplotlib import pyplot as plt\n",
    "from matplotlib_venn import venn2\n",
    "\n",
    "# Number of students\n",
    "only_physics = 15\n",
    "only_chemistry = 10\n",
    "both = 15\n",
    "\n",
    "# Draw Venn diagram\n",
    "venn2(subsets = (only_physics, only_chemistry, both), \n",
    "      set_labels = ('Physics', 'Chemistry'))\n",
    "plt.title(\"Venn Diagram of Students studying Physics and Chemistry\")\n",
    "plt.show()\n"
   ]
  },
  {
   "cell_type": "code",
   "execution_count": 25,
   "id": "4d6f9643-1f0e-4fa6-b478-57c197b1a54a",
   "metadata": {},
   "outputs": [
    {
     "data": {
      "image/png": "[encoded data removed]",
      "text/plain": [
       "<Figure size 640x480 with 1 Axes>"
      ]
     },
     "metadata": {},
     "output_type": "display_data"
    }
   ],
   "source": [
    "import matplotlib.pyplot as plt\n",
    "\n",
    "# Create figure\n",
    "fig, ax = plt.subplots()\n",
    "\n",
    "# Draw circles for Physics and Chemistry\n",
    "circle1 = plt.Circle((0.4, 0.5), 0.3, color='skyblue', alpha=0.5, label='Physics')\n",
    "circle2 = plt.Circle((0.6, 0.5), 0.3, color='lightgreen', alpha=0.5, label='Chemistry')\n",
    "\n",
    "ax.add_artist(circle1)\n",
    "ax.add_artist(circle2)\n",
    "\n",
    "# Labels\n",
    "plt.text(0.25, 0.5, 'Only Physics\\n15', fontsize=10, ha='center')\n",
    "plt.text(0.75, 0.5, 'Only Chemistry\\n10', fontsize=10, ha='center')\n",
    "plt.text(0.5, 0.5, 'Both\\n15', fontsize=10, ha='center')\n",
    "plt.text(0.5, 0.2, 'Neither\\n10', fontsize=10, ha='center')\n",
    "\n",
    "# Set limits and hide axes\n",
    "plt.xlim(0, 1)\n",
    "plt.ylim(0, 1)\n",
    "plt.axis('off')\n",
    "plt.title(\"Approximate Venn Diagram of Students\")\n",
    "plt.show()\n"
   ]
  },
  {
   "cell_type": "code",
   "execution_count": null,
   "id": "eafda1f5-203e-40a0-b6ab-045683556d38",
   "metadata": {},
   "outputs": [],
   "source": []
  },
  {
   "cell_type": "markdown",
   "id": "dbe04864-294d-4ce5-b67b-dc5b3c69d3da",
   "metadata": {},
   "source": [
    "Q5. In a group of 50 students, 30 study Physics, 25 study Chemistry, and 15 study both. Draw a Venn diagram to represent this and find the probability that a randomly selected student studies only Physics."
   ]
  },
  {
   "cell_type": "code",
   "execution_count": 26,
   "id": "030cdb75-3e59-4426-b3d2-edc634ef4c63",
   "metadata": {},
   "outputs": [
    {
     "data": {
      "image/png": "[encoded data removed]",
      "text/plain": [
       "<Figure size 640x480 with 1 Axes>"
      ]
     },
     "metadata": {},
     "output_type": "display_data"
    }
   ],
   "source": [
    "import matplotlib.pyplot as plt\n",
    "\n",
    "# Create figure\n",
    "fig, ax = plt.subplots()\n",
    "\n",
    "# Draw circles for Physics and Chemistry\n",
    "circle1 = plt.Circle((0.4, 0.5), 0.3, color='skyblue', alpha=0.5, label='Physics')\n",
    "circle2 = plt.Circle((0.6, 0.5), 0.3, color='lightgreen', alpha=0.5, label='Chemistry')\n",
    "\n",
    "ax.add_artist(circle1)\n",
    "ax.add_artist(circle2)\n",
    "\n",
    "# Labels for each section\n",
    "plt.text(0.25, 0.5, 'Only Physics\\n15', fontsize=10, ha='center')\n",
    "plt.text(0.75, 0.5, 'Only Chemistry\\n10', fontsize=10, ha='center')\n",
    "plt.text(0.5, 0.5, 'Both\\n15', fontsize=10, ha='center')\n",
    "plt.text(0.5, 0.2, 'Neither\\n10', fontsize=10, ha='center')\n",
    "\n",
    "# Set limits and hide axes\n",
    "plt.xlim(0, 1)\n",
    "plt.ylim(0, 1)\n",
    "plt.axis('off')\n",
    "plt.title(\"Approximate Venn Diagram of Students\")\n",
    "plt.show()\n"
   ]
  },
  {
   "cell_type": "code",
   "execution_count": null,
   "id": "4eb57add-5ed4-43ec-8f66-801024d8f2e8",
   "metadata": {},
   "outputs": [],
   "source": []
  }
 ],
 "metadata": {
  "kernelspec": {
   "display_name": "Python 3 (ipykernel)",
   "language": "python",
   "name": "python3"
  },
  "language_info": {
   "codemirror_mode": {
    "name": "ipython",
    "version": 3
   },
   "file_extension": ".py",
   "mimetype": "text/x-python",
   "name": "python",
   "nbconvert_exporter": "python",
   "pygments_lexer": "ipython3",
   "version": "3.12.4"
  }
 },
 "nbformat": 4,
 "nbformat_minor": 5
}
